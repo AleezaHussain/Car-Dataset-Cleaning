{
 "cells": [
  {
   "cell_type": "code",
   "execution_count": 73,
   "id": "964f09c2",
   "metadata": {},
   "outputs": [],
   "source": [
    "import pandas as pd\n",
    "import matplotlib.pyplot as plt\n",
    "import seaborn as sns\n",
    "import numpy as np"
   ]
  },
  {
   "cell_type": "code",
   "execution_count": 2,
   "id": "22eeffd5",
   "metadata": {},
   "outputs": [],
   "source": [
    "dataset = pd.read_csv(\"D:/dataset/car_price.csv\")"
   ]
  },
  {
   "cell_type": "code",
   "execution_count": 3,
   "id": "a0eaadec",
   "metadata": {},
   "outputs": [
    {
     "data": {
      "text/html": [
       "<div>\n",
       "<style scoped>\n",
       "    .dataframe tbody tr th:only-of-type {\n",
       "        vertical-align: middle;\n",
       "    }\n",
       "\n",
       "    .dataframe tbody tr th {\n",
       "        vertical-align: top;\n",
       "    }\n",
       "\n",
       "    .dataframe thead th {\n",
       "        text-align: right;\n",
       "    }\n",
       "</style>\n",
       "<table border=\"1\" class=\"dataframe\">\n",
       "  <thead>\n",
       "    <tr style=\"text-align: right;\">\n",
       "      <th></th>\n",
       "      <th>Unnamed: 0</th>\n",
       "      <th>car_name</th>\n",
       "      <th>car_prices_in_rupee</th>\n",
       "      <th>kms_driven</th>\n",
       "      <th>fuel_type</th>\n",
       "      <th>transmission</th>\n",
       "      <th>ownership</th>\n",
       "      <th>manufacture</th>\n",
       "      <th>engine</th>\n",
       "      <th>Seats</th>\n",
       "    </tr>\n",
       "  </thead>\n",
       "  <tbody>\n",
       "    <tr>\n",
       "      <th>0</th>\n",
       "      <td>0</td>\n",
       "      <td>Jeep Compass 2.0 Longitude Option BSIV</td>\n",
       "      <td>NaN</td>\n",
       "      <td>86,226 kms</td>\n",
       "      <td>Diesel</td>\n",
       "      <td>Manual</td>\n",
       "      <td>1st Owner</td>\n",
       "      <td>2017.0</td>\n",
       "      <td>1956 cc</td>\n",
       "      <td>5 Seats</td>\n",
       "    </tr>\n",
       "  </tbody>\n",
       "</table>\n",
       "</div>"
      ],
      "text/plain": [
       "   Unnamed: 0                                car_name car_prices_in_rupee   \n",
       "0           0  Jeep Compass 2.0 Longitude Option BSIV                 NaN  \\\n",
       "\n",
       "   kms_driven fuel_type transmission  ownership  manufacture   engine    Seats  \n",
       "0  86,226 kms    Diesel       Manual  1st Owner       2017.0  1956 cc  5 Seats  "
      ]
     },
     "execution_count": 3,
     "metadata": {},
     "output_type": "execute_result"
    }
   ],
   "source": [
    "dataset.head(1)"
   ]
  },
  {
   "cell_type": "code",
   "execution_count": 4,
   "id": "72807758",
   "metadata": {},
   "outputs": [
    {
     "name": "stdout",
     "output_type": "stream",
     "text": [
      "<class 'pandas.core.frame.DataFrame'>\n",
      "RangeIndex: 5512 entries, 0 to 5511\n",
      "Data columns (total 10 columns):\n",
      " #   Column               Non-Null Count  Dtype  \n",
      "---  ------               --------------  -----  \n",
      " 0   Unnamed: 0           5512 non-null   int64  \n",
      " 1   car_name             5511 non-null   object \n",
      " 2   car_prices_in_rupee  5510 non-null   object \n",
      " 3   kms_driven           5511 non-null   object \n",
      " 4   fuel_type            5509 non-null   object \n",
      " 5   transmission         5512 non-null   object \n",
      " 6   ownership            5511 non-null   object \n",
      " 7   manufacture          5511 non-null   float64\n",
      " 8   engine               5512 non-null   object \n",
      " 9   Seats                5511 non-null   object \n",
      "dtypes: float64(1), int64(1), object(8)\n",
      "memory usage: 430.8+ KB\n"
     ]
    }
   ],
   "source": [
    "dataset.info()"
   ]
  },
  {
   "cell_type": "markdown",
   "id": "c1b8bfe7",
   "metadata": {},
   "source": [
    "- Removing missing data"
   ]
  },
  {
   "cell_type": "code",
   "execution_count": 5,
   "id": "1e3701fc",
   "metadata": {},
   "outputs": [
    {
     "data": {
      "text/plain": [
       "Unnamed: 0             0.000000\n",
       "car_name               0.018142\n",
       "car_prices_in_rupee    0.036284\n",
       "kms_driven             0.018142\n",
       "fuel_type              0.054427\n",
       "transmission           0.000000\n",
       "ownership              0.018142\n",
       "manufacture            0.018142\n",
       "engine                 0.000000\n",
       "Seats                  0.018142\n",
       "dtype: float64"
      ]
     },
     "execution_count": 5,
     "metadata": {},
     "output_type": "execute_result"
    }
   ],
   "source": [
    "dataset.isnull().sum()/dataset.shape[0]*100"
   ]
  },
  {
   "cell_type": "code",
   "execution_count": 6,
   "id": "4209582e",
   "metadata": {},
   "outputs": [
    {
     "data": {
      "text/plain": [
       "(5512, 10)"
      ]
     },
     "execution_count": 6,
     "metadata": {},
     "output_type": "execute_result"
    }
   ],
   "source": [
    "dataset.shape"
   ]
  },
  {
   "cell_type": "code",
   "execution_count": 7,
   "id": "71b03c17",
   "metadata": {},
   "outputs": [],
   "source": [
    "dataset.dropna(inplace=True)"
   ]
  },
  {
   "cell_type": "code",
   "execution_count": 8,
   "id": "5ca8d4f9",
   "metadata": {},
   "outputs": [
    {
     "data": {
      "text/html": [
       "<div>\n",
       "<style scoped>\n",
       "    .dataframe tbody tr th:only-of-type {\n",
       "        vertical-align: middle;\n",
       "    }\n",
       "\n",
       "    .dataframe tbody tr th {\n",
       "        vertical-align: top;\n",
       "    }\n",
       "\n",
       "    .dataframe thead th {\n",
       "        text-align: right;\n",
       "    }\n",
       "</style>\n",
       "<table border=\"1\" class=\"dataframe\">\n",
       "  <thead>\n",
       "    <tr style=\"text-align: right;\">\n",
       "      <th></th>\n",
       "      <th>Unnamed: 0</th>\n",
       "      <th>car_name</th>\n",
       "      <th>car_prices_in_rupee</th>\n",
       "      <th>kms_driven</th>\n",
       "      <th>fuel_type</th>\n",
       "      <th>transmission</th>\n",
       "      <th>ownership</th>\n",
       "      <th>manufacture</th>\n",
       "      <th>engine</th>\n",
       "      <th>Seats</th>\n",
       "    </tr>\n",
       "  </thead>\n",
       "  <tbody>\n",
       "    <tr>\n",
       "      <th>1</th>\n",
       "      <td>1</td>\n",
       "      <td>Renault Duster RXZ Turbo CVT</td>\n",
       "      <td>12.83 Lakh</td>\n",
       "      <td>13,248 kms</td>\n",
       "      <td>Petrol</td>\n",
       "      <td>Automatic</td>\n",
       "      <td>1st Owner</td>\n",
       "      <td>2021.0</td>\n",
       "      <td>1330 cc</td>\n",
       "      <td>5 Seats</td>\n",
       "    </tr>\n",
       "    <tr>\n",
       "      <th>2</th>\n",
       "      <td>2</td>\n",
       "      <td>Toyota Camry 2.5 G</td>\n",
       "      <td>16.40 Lakh</td>\n",
       "      <td>60,343 kms</td>\n",
       "      <td>Petrol</td>\n",
       "      <td>Automatic</td>\n",
       "      <td>1st Owner</td>\n",
       "      <td>2016.0</td>\n",
       "      <td>2494 cc</td>\n",
       "      <td>5 Seats</td>\n",
       "    </tr>\n",
       "    <tr>\n",
       "      <th>3</th>\n",
       "      <td>3</td>\n",
       "      <td>Honda Jazz VX CVT</td>\n",
       "      <td>7.77 Lakh</td>\n",
       "      <td>26,696 kms</td>\n",
       "      <td>Petrol</td>\n",
       "      <td>Automatic</td>\n",
       "      <td>1st Owner</td>\n",
       "      <td>2018.0</td>\n",
       "      <td>1199 cc</td>\n",
       "      <td>5 Seats</td>\n",
       "    </tr>\n",
       "    <tr>\n",
       "      <th>4</th>\n",
       "      <td>4</td>\n",
       "      <td>Volkswagen Polo 1.2 MPI Highline</td>\n",
       "      <td>5.15 Lakh</td>\n",
       "      <td>69,414 kms</td>\n",
       "      <td>Petrol</td>\n",
       "      <td>Manual</td>\n",
       "      <td>1st Owner</td>\n",
       "      <td>2016.0</td>\n",
       "      <td>1199 cc</td>\n",
       "      <td>5 Seats</td>\n",
       "    </tr>\n",
       "    <tr>\n",
       "      <th>5</th>\n",
       "      <td>5</td>\n",
       "      <td>Volkswagen Vento 1.2 TSI Highline AT</td>\n",
       "      <td>7.66 Lakh</td>\n",
       "      <td>49,719 kms</td>\n",
       "      <td>Petrol</td>\n",
       "      <td>Automatic</td>\n",
       "      <td>1st Owner</td>\n",
       "      <td>2017.0</td>\n",
       "      <td>1197 cc</td>\n",
       "      <td>5 Seats</td>\n",
       "    </tr>\n",
       "  </tbody>\n",
       "</table>\n",
       "</div>"
      ],
      "text/plain": [
       "   Unnamed: 0                              car_name car_prices_in_rupee   \n",
       "1           1          Renault Duster RXZ Turbo CVT          12.83 Lakh  \\\n",
       "2           2                    Toyota Camry 2.5 G          16.40 Lakh   \n",
       "3           3                     Honda Jazz VX CVT           7.77 Lakh   \n",
       "4           4      Volkswagen Polo 1.2 MPI Highline           5.15 Lakh   \n",
       "5           5  Volkswagen Vento 1.2 TSI Highline AT           7.66 Lakh   \n",
       "\n",
       "   kms_driven fuel_type transmission  ownership  manufacture   engine    Seats  \n",
       "1  13,248 kms    Petrol    Automatic  1st Owner       2021.0  1330 cc  5 Seats  \n",
       "2  60,343 kms    Petrol    Automatic  1st Owner       2016.0  2494 cc  5 Seats  \n",
       "3  26,696 kms    Petrol    Automatic  1st Owner       2018.0  1199 cc  5 Seats  \n",
       "4  69,414 kms    Petrol       Manual  1st Owner       2016.0  1199 cc  5 Seats  \n",
       "5  49,719 kms    Petrol    Automatic  1st Owner       2017.0  1197 cc  5 Seats  "
      ]
     },
     "execution_count": 8,
     "metadata": {},
     "output_type": "execute_result"
    }
   ],
   "source": [
    "dataset.head()"
   ]
  },
  {
   "cell_type": "code",
   "execution_count": 9,
   "id": "dfe00770",
   "metadata": {},
   "outputs": [],
   "source": [
    "def company_name(x):\n",
    "    if isinstance(x, str) and \" \" in x:\n",
    "        return x[:x.index(\" \")]\n",
    "    else:\n",
    "        return x "
   ]
  },
  {
   "cell_type": "code",
   "execution_count": 10,
   "id": "5f214b4e",
   "metadata": {},
   "outputs": [],
   "source": [
    "new_column = dataset['car_name'].apply(company_name)"
   ]
  },
  {
   "cell_type": "code",
   "execution_count": 11,
   "id": "e85485bf",
   "metadata": {},
   "outputs": [],
   "source": [
    "# # creating new column of company name\n",
    "dataset['company_name'] = new_column"
   ]
  },
  {
   "cell_type": "code",
   "execution_count": 12,
   "id": "39487337",
   "metadata": {},
   "outputs": [
    {
     "data": {
      "text/html": [
       "<div>\n",
       "<style scoped>\n",
       "    .dataframe tbody tr th:only-of-type {\n",
       "        vertical-align: middle;\n",
       "    }\n",
       "\n",
       "    .dataframe tbody tr th {\n",
       "        vertical-align: top;\n",
       "    }\n",
       "\n",
       "    .dataframe thead th {\n",
       "        text-align: right;\n",
       "    }\n",
       "</style>\n",
       "<table border=\"1\" class=\"dataframe\">\n",
       "  <thead>\n",
       "    <tr style=\"text-align: right;\">\n",
       "      <th></th>\n",
       "      <th>Unnamed: 0</th>\n",
       "      <th>car_name</th>\n",
       "      <th>car_prices_in_rupee</th>\n",
       "      <th>kms_driven</th>\n",
       "      <th>fuel_type</th>\n",
       "      <th>transmission</th>\n",
       "      <th>ownership</th>\n",
       "      <th>manufacture</th>\n",
       "      <th>engine</th>\n",
       "      <th>Seats</th>\n",
       "      <th>company_name</th>\n",
       "    </tr>\n",
       "  </thead>\n",
       "  <tbody>\n",
       "    <tr>\n",
       "      <th>1</th>\n",
       "      <td>1</td>\n",
       "      <td>Renault Duster RXZ Turbo CVT</td>\n",
       "      <td>12.83 Lakh</td>\n",
       "      <td>13,248 kms</td>\n",
       "      <td>Petrol</td>\n",
       "      <td>Automatic</td>\n",
       "      <td>1st Owner</td>\n",
       "      <td>2021.0</td>\n",
       "      <td>1330 cc</td>\n",
       "      <td>5 Seats</td>\n",
       "      <td>Renault</td>\n",
       "    </tr>\n",
       "    <tr>\n",
       "      <th>2</th>\n",
       "      <td>2</td>\n",
       "      <td>Toyota Camry 2.5 G</td>\n",
       "      <td>16.40 Lakh</td>\n",
       "      <td>60,343 kms</td>\n",
       "      <td>Petrol</td>\n",
       "      <td>Automatic</td>\n",
       "      <td>1st Owner</td>\n",
       "      <td>2016.0</td>\n",
       "      <td>2494 cc</td>\n",
       "      <td>5 Seats</td>\n",
       "      <td>Toyota</td>\n",
       "    </tr>\n",
       "    <tr>\n",
       "      <th>3</th>\n",
       "      <td>3</td>\n",
       "      <td>Honda Jazz VX CVT</td>\n",
       "      <td>7.77 Lakh</td>\n",
       "      <td>26,696 kms</td>\n",
       "      <td>Petrol</td>\n",
       "      <td>Automatic</td>\n",
       "      <td>1st Owner</td>\n",
       "      <td>2018.0</td>\n",
       "      <td>1199 cc</td>\n",
       "      <td>5 Seats</td>\n",
       "      <td>Honda</td>\n",
       "    </tr>\n",
       "  </tbody>\n",
       "</table>\n",
       "</div>"
      ],
      "text/plain": [
       "   Unnamed: 0                      car_name car_prices_in_rupee  kms_driven   \n",
       "1           1  Renault Duster RXZ Turbo CVT          12.83 Lakh  13,248 kms  \\\n",
       "2           2            Toyota Camry 2.5 G          16.40 Lakh  60,343 kms   \n",
       "3           3             Honda Jazz VX CVT           7.77 Lakh  26,696 kms   \n",
       "\n",
       "  fuel_type transmission  ownership  manufacture   engine    Seats   \n",
       "1    Petrol    Automatic  1st Owner       2021.0  1330 cc  5 Seats  \\\n",
       "2    Petrol    Automatic  1st Owner       2016.0  2494 cc  5 Seats   \n",
       "3    Petrol    Automatic  1st Owner       2018.0  1199 cc  5 Seats   \n",
       "\n",
       "  company_name  \n",
       "1      Renault  \n",
       "2       Toyota  \n",
       "3        Honda  "
      ]
     },
     "execution_count": 12,
     "metadata": {},
     "output_type": "execute_result"
    }
   ],
   "source": [
    "dataset.head(3)"
   ]
  },
  {
   "cell_type": "code",
   "execution_count": 13,
   "id": "37b9b235",
   "metadata": {},
   "outputs": [],
   "source": [
    "def car_name(x):\n",
    "    if isinstance(x,str) and \" \" in x:\n",
    "        return x[x.index(\" \")+1:]\n",
    "    else: \n",
    "        return x"
   ]
  },
  {
   "cell_type": "code",
   "execution_count": 14,
   "id": "154ed845",
   "metadata": {},
   "outputs": [],
   "source": [
    "new_column2 = dataset[\"car_name\"].apply(car_name)"
   ]
  },
  {
   "cell_type": "code",
   "execution_count": 15,
   "id": "d54683aa",
   "metadata": {},
   "outputs": [
    {
     "data": {
      "text/plain": [
       "1            Duster RXZ Turbo CVT\n",
       "2                     Camry 2.5 G\n",
       "3                     Jazz VX CVT\n",
       "4           Polo 1.2 MPI Highline\n",
       "5       Vento 1.2 TSI Highline AT\n",
       "                  ...            \n",
       "5507          X1 sDrive 20d xLine\n",
       "5508            M Series M4 Coupe\n",
       "5509          XF 2.2 Litre Luxury\n",
       "5510               7 Series 730Ld\n",
       "5511        5 Series 520d M Sport\n",
       "Name: car_name, Length: 5502, dtype: object"
      ]
     },
     "execution_count": 15,
     "metadata": {},
     "output_type": "execute_result"
    }
   ],
   "source": [
    "new_column2"
   ]
  },
  {
   "cell_type": "code",
   "execution_count": 16,
   "id": "f7826e65",
   "metadata": {},
   "outputs": [],
   "source": [
    "dataset['car_name'] = new_column2"
   ]
  },
  {
   "cell_type": "code",
   "execution_count": 17,
   "id": "831747fd",
   "metadata": {},
   "outputs": [
    {
     "data": {
      "text/html": [
       "<div>\n",
       "<style scoped>\n",
       "    .dataframe tbody tr th:only-of-type {\n",
       "        vertical-align: middle;\n",
       "    }\n",
       "\n",
       "    .dataframe tbody tr th {\n",
       "        vertical-align: top;\n",
       "    }\n",
       "\n",
       "    .dataframe thead th {\n",
       "        text-align: right;\n",
       "    }\n",
       "</style>\n",
       "<table border=\"1\" class=\"dataframe\">\n",
       "  <thead>\n",
       "    <tr style=\"text-align: right;\">\n",
       "      <th></th>\n",
       "      <th>Unnamed: 0</th>\n",
       "      <th>car_name</th>\n",
       "      <th>car_prices_in_rupee</th>\n",
       "      <th>kms_driven</th>\n",
       "      <th>fuel_type</th>\n",
       "      <th>transmission</th>\n",
       "      <th>ownership</th>\n",
       "      <th>manufacture</th>\n",
       "      <th>engine</th>\n",
       "      <th>Seats</th>\n",
       "      <th>company_name</th>\n",
       "    </tr>\n",
       "  </thead>\n",
       "  <tbody>\n",
       "    <tr>\n",
       "      <th>1</th>\n",
       "      <td>1</td>\n",
       "      <td>Duster RXZ Turbo CVT</td>\n",
       "      <td>12.83 Lakh</td>\n",
       "      <td>13,248 kms</td>\n",
       "      <td>Petrol</td>\n",
       "      <td>Automatic</td>\n",
       "      <td>1st Owner</td>\n",
       "      <td>2021.0</td>\n",
       "      <td>1330 cc</td>\n",
       "      <td>5 Seats</td>\n",
       "      <td>Renault</td>\n",
       "    </tr>\n",
       "    <tr>\n",
       "      <th>2</th>\n",
       "      <td>2</td>\n",
       "      <td>Camry 2.5 G</td>\n",
       "      <td>16.40 Lakh</td>\n",
       "      <td>60,343 kms</td>\n",
       "      <td>Petrol</td>\n",
       "      <td>Automatic</td>\n",
       "      <td>1st Owner</td>\n",
       "      <td>2016.0</td>\n",
       "      <td>2494 cc</td>\n",
       "      <td>5 Seats</td>\n",
       "      <td>Toyota</td>\n",
       "    </tr>\n",
       "    <tr>\n",
       "      <th>3</th>\n",
       "      <td>3</td>\n",
       "      <td>Jazz VX CVT</td>\n",
       "      <td>7.77 Lakh</td>\n",
       "      <td>26,696 kms</td>\n",
       "      <td>Petrol</td>\n",
       "      <td>Automatic</td>\n",
       "      <td>1st Owner</td>\n",
       "      <td>2018.0</td>\n",
       "      <td>1199 cc</td>\n",
       "      <td>5 Seats</td>\n",
       "      <td>Honda</td>\n",
       "    </tr>\n",
       "  </tbody>\n",
       "</table>\n",
       "</div>"
      ],
      "text/plain": [
       "   Unnamed: 0              car_name car_prices_in_rupee  kms_driven fuel_type   \n",
       "1           1  Duster RXZ Turbo CVT          12.83 Lakh  13,248 kms    Petrol  \\\n",
       "2           2           Camry 2.5 G          16.40 Lakh  60,343 kms    Petrol   \n",
       "3           3           Jazz VX CVT           7.77 Lakh  26,696 kms    Petrol   \n",
       "\n",
       "  transmission  ownership  manufacture   engine    Seats company_name  \n",
       "1    Automatic  1st Owner       2021.0  1330 cc  5 Seats      Renault  \n",
       "2    Automatic  1st Owner       2016.0  2494 cc  5 Seats       Toyota  \n",
       "3    Automatic  1st Owner       2018.0  1199 cc  5 Seats        Honda  "
      ]
     },
     "execution_count": 17,
     "metadata": {},
     "output_type": "execute_result"
    }
   ],
   "source": [
    "dataset.head(3)"
   ]
  },
  {
   "cell_type": "markdown",
   "id": "bf641927",
   "metadata": {},
   "source": [
    "# car_prices_in_rupee"
   ]
  },
  {
   "cell_type": "code",
   "execution_count": 18,
   "id": "a0a687ba",
   "metadata": {},
   "outputs": [],
   "source": [
    "dataset['car_prices_in_rupee'] = dataset['car_prices_in_rupee'].str.replace(',',\"\")"
   ]
  },
  {
   "cell_type": "markdown",
   "id": "3ff81538",
   "metadata": {},
   "source": [
    "#mistakes => 35000, lakh, crores ,nan\n"
   ]
  },
  {
   "cell_type": "code",
   "execution_count": 19,
   "id": "56eae526",
   "metadata": {},
   "outputs": [
    {
     "data": {
      "text/plain": [
       "10200000.0"
      ]
     },
     "execution_count": 19,
     "metadata": {},
     "output_type": "execute_result"
    }
   ],
   "source": [
    "1.02 * 10000000"
   ]
  },
  {
   "cell_type": "markdown",
   "id": "4b080671",
   "metadata": {},
   "source": [
    "Rupees Converter"
   ]
  },
  {
   "cell_type": "code",
   "execution_count": 20,
   "id": "a3a2867c",
   "metadata": {},
   "outputs": [],
   "source": [
    "def rupee_converter(x):\n",
    "    y = str(x)\n",
    "    p= y.split(\" \")\n",
    "    try:\n",
    "        if p[1]==\"Lakh\":\n",
    "            return str(round(float(p[0])*100000,1))\n",
    "        elif p[1]==\"Crore\":\n",
    "            return str(round(float(p[0])*10000000,1))\n",
    "    except:\n",
    "        return x\n",
    "    "
   ]
  },
  {
   "cell_type": "code",
   "execution_count": 21,
   "id": "e9a20402",
   "metadata": {},
   "outputs": [],
   "source": [
    "dataset['car_prices_in_rupee'] = dataset[\"car_prices_in_rupee\"].apply(rupee_converter)"
   ]
  },
  {
   "cell_type": "code",
   "execution_count": 22,
   "id": "6c5d1642",
   "metadata": {},
   "outputs": [
    {
     "data": {
      "text/html": [
       "<div>\n",
       "<style scoped>\n",
       "    .dataframe tbody tr th:only-of-type {\n",
       "        vertical-align: middle;\n",
       "    }\n",
       "\n",
       "    .dataframe tbody tr th {\n",
       "        vertical-align: top;\n",
       "    }\n",
       "\n",
       "    .dataframe thead th {\n",
       "        text-align: right;\n",
       "    }\n",
       "</style>\n",
       "<table border=\"1\" class=\"dataframe\">\n",
       "  <thead>\n",
       "    <tr style=\"text-align: right;\">\n",
       "      <th></th>\n",
       "      <th>Unnamed: 0</th>\n",
       "      <th>car_name</th>\n",
       "      <th>car_prices_in_rupee</th>\n",
       "      <th>kms_driven</th>\n",
       "      <th>fuel_type</th>\n",
       "      <th>transmission</th>\n",
       "      <th>ownership</th>\n",
       "      <th>manufacture</th>\n",
       "      <th>engine</th>\n",
       "      <th>Seats</th>\n",
       "      <th>company_name</th>\n",
       "    </tr>\n",
       "  </thead>\n",
       "  <tbody>\n",
       "    <tr>\n",
       "      <th>1</th>\n",
       "      <td>1</td>\n",
       "      <td>Duster RXZ Turbo CVT</td>\n",
       "      <td>1283000.0</td>\n",
       "      <td>13,248 kms</td>\n",
       "      <td>Petrol</td>\n",
       "      <td>Automatic</td>\n",
       "      <td>1st Owner</td>\n",
       "      <td>2021.0</td>\n",
       "      <td>1330 cc</td>\n",
       "      <td>5 Seats</td>\n",
       "      <td>Renault</td>\n",
       "    </tr>\n",
       "    <tr>\n",
       "      <th>2</th>\n",
       "      <td>2</td>\n",
       "      <td>Camry 2.5 G</td>\n",
       "      <td>1640000.0</td>\n",
       "      <td>60,343 kms</td>\n",
       "      <td>Petrol</td>\n",
       "      <td>Automatic</td>\n",
       "      <td>1st Owner</td>\n",
       "      <td>2016.0</td>\n",
       "      <td>2494 cc</td>\n",
       "      <td>5 Seats</td>\n",
       "      <td>Toyota</td>\n",
       "    </tr>\n",
       "    <tr>\n",
       "      <th>3</th>\n",
       "      <td>3</td>\n",
       "      <td>Jazz VX CVT</td>\n",
       "      <td>777000.0</td>\n",
       "      <td>26,696 kms</td>\n",
       "      <td>Petrol</td>\n",
       "      <td>Automatic</td>\n",
       "      <td>1st Owner</td>\n",
       "      <td>2018.0</td>\n",
       "      <td>1199 cc</td>\n",
       "      <td>5 Seats</td>\n",
       "      <td>Honda</td>\n",
       "    </tr>\n",
       "    <tr>\n",
       "      <th>4</th>\n",
       "      <td>4</td>\n",
       "      <td>Polo 1.2 MPI Highline</td>\n",
       "      <td>515000.0</td>\n",
       "      <td>69,414 kms</td>\n",
       "      <td>Petrol</td>\n",
       "      <td>Manual</td>\n",
       "      <td>1st Owner</td>\n",
       "      <td>2016.0</td>\n",
       "      <td>1199 cc</td>\n",
       "      <td>5 Seats</td>\n",
       "      <td>Volkswagen</td>\n",
       "    </tr>\n",
       "    <tr>\n",
       "      <th>5</th>\n",
       "      <td>5</td>\n",
       "      <td>Vento 1.2 TSI Highline AT</td>\n",
       "      <td>766000.0</td>\n",
       "      <td>49,719 kms</td>\n",
       "      <td>Petrol</td>\n",
       "      <td>Automatic</td>\n",
       "      <td>1st Owner</td>\n",
       "      <td>2017.0</td>\n",
       "      <td>1197 cc</td>\n",
       "      <td>5 Seats</td>\n",
       "      <td>Volkswagen</td>\n",
       "    </tr>\n",
       "  </tbody>\n",
       "</table>\n",
       "</div>"
      ],
      "text/plain": [
       "   Unnamed: 0                   car_name car_prices_in_rupee  kms_driven   \n",
       "1           1       Duster RXZ Turbo CVT           1283000.0  13,248 kms  \\\n",
       "2           2                Camry 2.5 G           1640000.0  60,343 kms   \n",
       "3           3                Jazz VX CVT            777000.0  26,696 kms   \n",
       "4           4      Polo 1.2 MPI Highline            515000.0  69,414 kms   \n",
       "5           5  Vento 1.2 TSI Highline AT            766000.0  49,719 kms   \n",
       "\n",
       "  fuel_type transmission  ownership  manufacture   engine    Seats   \n",
       "1    Petrol    Automatic  1st Owner       2021.0  1330 cc  5 Seats  \\\n",
       "2    Petrol    Automatic  1st Owner       2016.0  2494 cc  5 Seats   \n",
       "3    Petrol    Automatic  1st Owner       2018.0  1199 cc  5 Seats   \n",
       "4    Petrol       Manual  1st Owner       2016.0  1199 cc  5 Seats   \n",
       "5    Petrol    Automatic  1st Owner       2017.0  1197 cc  5 Seats   \n",
       "\n",
       "  company_name  \n",
       "1      Renault  \n",
       "2       Toyota  \n",
       "3        Honda  \n",
       "4   Volkswagen  \n",
       "5   Volkswagen  "
      ]
     },
     "execution_count": 22,
     "metadata": {},
     "output_type": "execute_result"
    }
   ],
   "source": [
    "dataset.head()"
   ]
  },
  {
   "cell_type": "code",
   "execution_count": 23,
   "id": "c7b1ee75",
   "metadata": {},
   "outputs": [
    {
     "name": "stdout",
     "output_type": "stream",
     "text": [
      "<class 'pandas.core.frame.DataFrame'>\n",
      "Index: 5502 entries, 1 to 5511\n",
      "Data columns (total 11 columns):\n",
      " #   Column               Non-Null Count  Dtype  \n",
      "---  ------               --------------  -----  \n",
      " 0   Unnamed: 0           5502 non-null   int64  \n",
      " 1   car_name             5502 non-null   object \n",
      " 2   car_prices_in_rupee  5502 non-null   object \n",
      " 3   kms_driven           5502 non-null   object \n",
      " 4   fuel_type            5502 non-null   object \n",
      " 5   transmission         5502 non-null   object \n",
      " 6   ownership            5502 non-null   object \n",
      " 7   manufacture          5502 non-null   float64\n",
      " 8   engine               5502 non-null   object \n",
      " 9   Seats                5502 non-null   object \n",
      " 10  company_name         5502 non-null   object \n",
      "dtypes: float64(1), int64(1), object(9)\n",
      "memory usage: 515.8+ KB\n"
     ]
    }
   ],
   "source": [
    "dataset.info()"
   ]
  },
  {
   "cell_type": "code",
   "execution_count": 24,
   "id": "c15571ab",
   "metadata": {},
   "outputs": [],
   "source": [
    "dataset['car_prices_in_rupee']= dataset['car_prices_in_rupee'].astype('float')"
   ]
  },
  {
   "cell_type": "code",
   "execution_count": 25,
   "id": "d81c6fe0",
   "metadata": {},
   "outputs": [],
   "source": [
    "dataset['kms_driven']= dataset['kms_driven'].str.replace(\",\",\"\")\n"
   ]
  },
  {
   "cell_type": "code",
   "execution_count": 26,
   "id": "e8a89e6b",
   "metadata": {},
   "outputs": [],
   "source": [
    "dataset['kms_driven']= dataset['kms_driven'].str.replace(\"kms\",\"\")"
   ]
  },
  {
   "cell_type": "code",
   "execution_count": 27,
   "id": "e5a7b756",
   "metadata": {},
   "outputs": [],
   "source": [
    "dataset['kms_driven'] = dataset['kms_driven'].astype(\"float\")"
   ]
  },
  {
   "cell_type": "code",
   "execution_count": 28,
   "id": "64a2f42e",
   "metadata": {},
   "outputs": [
    {
     "data": {
      "text/plain": [
       "1       13248.0\n",
       "2       60343.0\n",
       "3       26696.0\n",
       "4       69414.0\n",
       "5       49719.0\n",
       "         ...   \n",
       "5507    45000.0\n",
       "5508    29000.0\n",
       "5509    90000.0\n",
       "5510    79000.0\n",
       "5511    42000.0\n",
       "Name: kms_driven, Length: 5502, dtype: float64"
      ]
     },
     "execution_count": 28,
     "metadata": {},
     "output_type": "execute_result"
    }
   ],
   "source": [
    "dataset['kms_driven']"
   ]
  },
  {
   "cell_type": "markdown",
   "id": "7ca96e19",
   "metadata": {},
   "source": [
    "# engine"
   ]
  },
  {
   "cell_type": "code",
   "execution_count": 29,
   "id": "a6ae19ca",
   "metadata": {},
   "outputs": [],
   "source": [
    "dataset['engine'] = dataset['engine'].str.replace(\"cc\",\"\")"
   ]
  },
  {
   "cell_type": "code",
   "execution_count": 30,
   "id": "89094b99",
   "metadata": {},
   "outputs": [],
   "source": [
    "dataset['engine'] = dataset['engine'].astype(\"int64\")"
   ]
  },
  {
   "cell_type": "code",
   "execution_count": 31,
   "id": "6505b787",
   "metadata": {},
   "outputs": [
    {
     "name": "stdout",
     "output_type": "stream",
     "text": [
      "<class 'pandas.core.frame.DataFrame'>\n",
      "Index: 5502 entries, 1 to 5511\n",
      "Data columns (total 11 columns):\n",
      " #   Column               Non-Null Count  Dtype  \n",
      "---  ------               --------------  -----  \n",
      " 0   Unnamed: 0           5502 non-null   int64  \n",
      " 1   car_name             5502 non-null   object \n",
      " 2   car_prices_in_rupee  5502 non-null   float64\n",
      " 3   kms_driven           5502 non-null   float64\n",
      " 4   fuel_type            5502 non-null   object \n",
      " 5   transmission         5502 non-null   object \n",
      " 6   ownership            5502 non-null   object \n",
      " 7   manufacture          5502 non-null   float64\n",
      " 8   engine               5502 non-null   int64  \n",
      " 9   Seats                5502 non-null   object \n",
      " 10  company_name         5502 non-null   object \n",
      "dtypes: float64(3), int64(2), object(6)\n",
      "memory usage: 515.8+ KB\n"
     ]
    }
   ],
   "source": [
    "dataset.info()"
   ]
  },
  {
   "cell_type": "markdown",
   "id": "634f4701",
   "metadata": {},
   "source": [
    "# Seats"
   ]
  },
  {
   "cell_type": "code",
   "execution_count": 32,
   "id": "896b247f",
   "metadata": {},
   "outputs": [
    {
     "data": {
      "text/plain": [
       "1       5 Seats\n",
       "2       5 Seats\n",
       "3       5 Seats\n",
       "4       5 Seats\n",
       "5       5 Seats\n",
       "         ...   \n",
       "5507    7 Seats\n",
       "5508    5 Seats\n",
       "5509    5 Seats\n",
       "5510    6 Seats\n",
       "5511    5 Seats\n",
       "Name: Seats, Length: 5502, dtype: object"
      ]
     },
     "execution_count": 32,
     "metadata": {},
     "output_type": "execute_result"
    }
   ],
   "source": [
    "dataset['Seats'] "
   ]
  },
  {
   "cell_type": "code",
   "execution_count": 33,
   "id": "a4d98f53",
   "metadata": {},
   "outputs": [],
   "source": [
    "dataset['Seats'] = dataset['Seats'].str.replace(\"Seats\",\"\")"
   ]
  },
  {
   "cell_type": "code",
   "execution_count": 34,
   "id": "01e0c1ff",
   "metadata": {},
   "outputs": [],
   "source": [
    "dataset['Seats'] = dataset['Seats'].astype(\"float\")"
   ]
  },
  {
   "cell_type": "code",
   "execution_count": 35,
   "id": "d49801ac",
   "metadata": {},
   "outputs": [],
   "source": [
    "from sklearn.preprocessing import LabelEncoder,StandardScaler\n",
    "#outliers are detected using manual method"
   ]
  },
  {
   "cell_type": "markdown",
   "id": "0736c91d",
   "metadata": {},
   "source": [
    "# Carname"
   ]
  },
  {
   "cell_type": "code",
   "execution_count": 38,
   "id": "8aeadc6f",
   "metadata": {},
   "outputs": [],
   "source": [
    "car_name_en = LabelEncoder()\n",
    "dataset['car_name'] = car_name_en.fit_transform(dataset['car_name'])"
   ]
  },
  {
   "cell_type": "markdown",
   "id": "71b85237",
   "metadata": {},
   "source": [
    "# Fuel"
   ]
  },
  {
   "cell_type": "code",
   "execution_count": 42,
   "id": "5bd845cb",
   "metadata": {},
   "outputs": [],
   "source": [
    "fuel_type_en = LabelEncoder()\n",
    "dataset['fuel_type']=fuel_type_en.fit_transform(dataset['fuel_type'])"
   ]
  },
  {
   "cell_type": "markdown",
   "id": "7c686ddf",
   "metadata": {},
   "source": [
    "# Transmission\n"
   ]
  },
  {
   "cell_type": "code",
   "execution_count": 51,
   "id": "515cd334",
   "metadata": {},
   "outputs": [],
   "source": [
    "transmission_en = LabelEncoder()\n",
    "dataset['transmission']=transmission_en.fit_transform(dataset['transmission'])"
   ]
  },
  {
   "cell_type": "code",
   "execution_count": 52,
   "id": "557fc7ac",
   "metadata": {},
   "outputs": [
    {
     "data": {
      "text/plain": [
       "1       0\n",
       "2       0\n",
       "3       0\n",
       "4       1\n",
       "5       0\n",
       "       ..\n",
       "5507    0\n",
       "5508    0\n",
       "5509    0\n",
       "5510    0\n",
       "5511    0\n",
       "Name: transmission, Length: 5502, dtype: int64"
      ]
     },
     "execution_count": 52,
     "metadata": {},
     "output_type": "execute_result"
    }
   ],
   "source": [
    "dataset['transmission']"
   ]
  },
  {
   "cell_type": "code",
   "execution_count": 53,
   "id": "015b1428",
   "metadata": {},
   "outputs": [],
   "source": [
    "ownership_en = LabelEncoder()\n",
    "dataset['ownership']=ownership_en.fit_transform(dataset['ownership'])"
   ]
  },
  {
   "cell_type": "code",
   "execution_count": 58,
   "id": "5b9cd721",
   "metadata": {},
   "outputs": [],
   "source": [
    "dataset = dataset.dropna() "
   ]
  },
  {
   "cell_type": "code",
   "execution_count": 60,
   "id": "2a718b2f",
   "metadata": {},
   "outputs": [],
   "source": [
    "dataset['manufacture'] = dataset['manufacture'].astype('int64')"
   ]
  },
  {
   "cell_type": "markdown",
   "id": "690b39d0",
   "metadata": {},
   "source": [
    "# Car name"
   ]
  },
  {
   "cell_type": "code",
   "execution_count": 62,
   "id": "2151c24e",
   "metadata": {},
   "outputs": [],
   "source": [
    "company_name_en = LabelEncoder()\n",
    "dataset['company_name']=company_name_en.fit_transform(dataset['company_name'])"
   ]
  },
  {
   "cell_type": "code",
   "execution_count": 64,
   "id": "91d99a19",
   "metadata": {},
   "outputs": [],
   "source": [
    "# removing manufacture because no use\n",
    "dataset.drop(columns=['manufacture'],inplace =True)"
   ]
  },
  {
   "cell_type": "code",
   "execution_count": 65,
   "id": "a55a8b21",
   "metadata": {},
   "outputs": [
    {
     "data": {
      "text/html": [
       "<div>\n",
       "<style scoped>\n",
       "    .dataframe tbody tr th:only-of-type {\n",
       "        vertical-align: middle;\n",
       "    }\n",
       "\n",
       "    .dataframe tbody tr th {\n",
       "        vertical-align: top;\n",
       "    }\n",
       "\n",
       "    .dataframe thead th {\n",
       "        text-align: right;\n",
       "    }\n",
       "</style>\n",
       "<table border=\"1\" class=\"dataframe\">\n",
       "  <thead>\n",
       "    <tr style=\"text-align: right;\">\n",
       "      <th></th>\n",
       "      <th>Unnamed: 0</th>\n",
       "      <th>car_name</th>\n",
       "      <th>car_prices_in_rupee</th>\n",
       "      <th>kms_driven</th>\n",
       "      <th>fuel_type</th>\n",
       "      <th>transmission</th>\n",
       "      <th>ownership</th>\n",
       "      <th>engine</th>\n",
       "      <th>Seats</th>\n",
       "      <th>company_name</th>\n",
       "    </tr>\n",
       "  </thead>\n",
       "  <tbody>\n",
       "    <tr>\n",
       "      <th>1</th>\n",
       "      <td>1</td>\n",
       "      <td>509</td>\n",
       "      <td>1283000.0</td>\n",
       "      <td>13248.0</td>\n",
       "      <td>4</td>\n",
       "      <td>0</td>\n",
       "      <td>1</td>\n",
       "      <td>1330</td>\n",
       "      <td>5.0</td>\n",
       "      <td>26</td>\n",
       "    </tr>\n",
       "    <tr>\n",
       "      <th>2</th>\n",
       "      <td>2</td>\n",
       "      <td>290</td>\n",
       "      <td>1640000.0</td>\n",
       "      <td>60343.0</td>\n",
       "      <td>4</td>\n",
       "      <td>0</td>\n",
       "      <td>1</td>\n",
       "      <td>2494</td>\n",
       "      <td>5.0</td>\n",
       "      <td>29</td>\n",
       "    </tr>\n",
       "    <tr>\n",
       "      <th>3</th>\n",
       "      <td>3</td>\n",
       "      <td>912</td>\n",
       "      <td>777000.0</td>\n",
       "      <td>26696.0</td>\n",
       "      <td>4</td>\n",
       "      <td>0</td>\n",
       "      <td>1</td>\n",
       "      <td>1199</td>\n",
       "      <td>5.0</td>\n",
       "      <td>8</td>\n",
       "    </tr>\n",
       "    <tr>\n",
       "      <th>4</th>\n",
       "      <td>4</td>\n",
       "      <td>1095</td>\n",
       "      <td>515000.0</td>\n",
       "      <td>69414.0</td>\n",
       "      <td>4</td>\n",
       "      <td>1</td>\n",
       "      <td>1</td>\n",
       "      <td>1199</td>\n",
       "      <td>5.0</td>\n",
       "      <td>30</td>\n",
       "    </tr>\n",
       "    <tr>\n",
       "      <th>5</th>\n",
       "      <td>5</td>\n",
       "      <td>1528</td>\n",
       "      <td>766000.0</td>\n",
       "      <td>49719.0</td>\n",
       "      <td>4</td>\n",
       "      <td>0</td>\n",
       "      <td>1</td>\n",
       "      <td>1197</td>\n",
       "      <td>5.0</td>\n",
       "      <td>30</td>\n",
       "    </tr>\n",
       "  </tbody>\n",
       "</table>\n",
       "</div>"
      ],
      "text/plain": [
       "   Unnamed: 0  car_name  car_prices_in_rupee  kms_driven  fuel_type   \n",
       "1           1       509            1283000.0     13248.0          4  \\\n",
       "2           2       290            1640000.0     60343.0          4   \n",
       "3           3       912             777000.0     26696.0          4   \n",
       "4           4      1095             515000.0     69414.0          4   \n",
       "5           5      1528             766000.0     49719.0          4   \n",
       "\n",
       "   transmission  ownership  engine  Seats  company_name  \n",
       "1             0          1    1330    5.0            26  \n",
       "2             0          1    2494    5.0            29  \n",
       "3             0          1    1199    5.0             8  \n",
       "4             1          1    1199    5.0            30  \n",
       "5             0          1    1197    5.0            30  "
      ]
     },
     "execution_count": 65,
     "metadata": {},
     "output_type": "execute_result"
    }
   ],
   "source": [
    "dataset.head()"
   ]
  },
  {
   "cell_type": "code",
   "execution_count": 66,
   "id": "73f29d11",
   "metadata": {},
   "outputs": [],
   "source": [
    "dataset[\"Seats\"]= dataset[\"Seats\"].astype(\"int64\")"
   ]
  },
  {
   "cell_type": "code",
   "execution_count": 67,
   "id": "95066377",
   "metadata": {},
   "outputs": [
    {
     "data": {
      "text/html": [
       "<div>\n",
       "<style scoped>\n",
       "    .dataframe tbody tr th:only-of-type {\n",
       "        vertical-align: middle;\n",
       "    }\n",
       "\n",
       "    .dataframe tbody tr th {\n",
       "        vertical-align: top;\n",
       "    }\n",
       "\n",
       "    .dataframe thead th {\n",
       "        text-align: right;\n",
       "    }\n",
       "</style>\n",
       "<table border=\"1\" class=\"dataframe\">\n",
       "  <thead>\n",
       "    <tr style=\"text-align: right;\">\n",
       "      <th></th>\n",
       "      <th>Unnamed: 0</th>\n",
       "      <th>car_name</th>\n",
       "      <th>car_prices_in_rupee</th>\n",
       "      <th>kms_driven</th>\n",
       "      <th>fuel_type</th>\n",
       "      <th>transmission</th>\n",
       "      <th>ownership</th>\n",
       "      <th>engine</th>\n",
       "      <th>Seats</th>\n",
       "      <th>company_name</th>\n",
       "    </tr>\n",
       "  </thead>\n",
       "  <tbody>\n",
       "    <tr>\n",
       "      <th>1</th>\n",
       "      <td>1</td>\n",
       "      <td>509</td>\n",
       "      <td>1283000.0</td>\n",
       "      <td>13248.0</td>\n",
       "      <td>4</td>\n",
       "      <td>0</td>\n",
       "      <td>1</td>\n",
       "      <td>1330</td>\n",
       "      <td>5</td>\n",
       "      <td>26</td>\n",
       "    </tr>\n",
       "    <tr>\n",
       "      <th>2</th>\n",
       "      <td>2</td>\n",
       "      <td>290</td>\n",
       "      <td>1640000.0</td>\n",
       "      <td>60343.0</td>\n",
       "      <td>4</td>\n",
       "      <td>0</td>\n",
       "      <td>1</td>\n",
       "      <td>2494</td>\n",
       "      <td>5</td>\n",
       "      <td>29</td>\n",
       "    </tr>\n",
       "    <tr>\n",
       "      <th>3</th>\n",
       "      <td>3</td>\n",
       "      <td>912</td>\n",
       "      <td>777000.0</td>\n",
       "      <td>26696.0</td>\n",
       "      <td>4</td>\n",
       "      <td>0</td>\n",
       "      <td>1</td>\n",
       "      <td>1199</td>\n",
       "      <td>5</td>\n",
       "      <td>8</td>\n",
       "    </tr>\n",
       "    <tr>\n",
       "      <th>4</th>\n",
       "      <td>4</td>\n",
       "      <td>1095</td>\n",
       "      <td>515000.0</td>\n",
       "      <td>69414.0</td>\n",
       "      <td>4</td>\n",
       "      <td>1</td>\n",
       "      <td>1</td>\n",
       "      <td>1199</td>\n",
       "      <td>5</td>\n",
       "      <td>30</td>\n",
       "    </tr>\n",
       "    <tr>\n",
       "      <th>5</th>\n",
       "      <td>5</td>\n",
       "      <td>1528</td>\n",
       "      <td>766000.0</td>\n",
       "      <td>49719.0</td>\n",
       "      <td>4</td>\n",
       "      <td>0</td>\n",
       "      <td>1</td>\n",
       "      <td>1197</td>\n",
       "      <td>5</td>\n",
       "      <td>30</td>\n",
       "    </tr>\n",
       "  </tbody>\n",
       "</table>\n",
       "</div>"
      ],
      "text/plain": [
       "   Unnamed: 0  car_name  car_prices_in_rupee  kms_driven  fuel_type   \n",
       "1           1       509            1283000.0     13248.0          4  \\\n",
       "2           2       290            1640000.0     60343.0          4   \n",
       "3           3       912             777000.0     26696.0          4   \n",
       "4           4      1095             515000.0     69414.0          4   \n",
       "5           5      1528             766000.0     49719.0          4   \n",
       "\n",
       "   transmission  ownership  engine  Seats  company_name  \n",
       "1             0          1    1330      5            26  \n",
       "2             0          1    2494      5            29  \n",
       "3             0          1    1199      5             8  \n",
       "4             1          1    1199      5            30  \n",
       "5             0          1    1197      5            30  "
      ]
     },
     "execution_count": 67,
     "metadata": {},
     "output_type": "execute_result"
    }
   ],
   "source": [
    "dataset.head()"
   ]
  },
  {
   "cell_type": "code",
   "execution_count": 69,
   "id": "c91cf325",
   "metadata": {},
   "outputs": [
    {
     "data": {
      "text/plain": [
       "<function matplotlib.pyplot.show(close=None, block=None)>"
      ]
     },
     "execution_count": 69,
     "metadata": {},
     "output_type": "execute_result"
    },
    {
     "data": {
      "image/png": "[encoded data removed]",
      "text/plain": [
       "<Figure size 400x300 with 1 Axes>"
      ]
     },
     "metadata": {},
     "output_type": "display_data"
    }
   ],
   "source": [
    "#Outlier detection\n",
    "plt.figure(figsize=(4,3))\n",
    "sns.boxplot(x=\"car_name\",data=dataset)\n",
    "plt.show"
   ]
  },
  {
   "cell_type": "code",
   "execution_count": 70,
   "id": "8f8c9050",
   "metadata": {},
   "outputs": [
    {
     "data": {
      "text/plain": [
       "<function matplotlib.pyplot.show(close=None, block=None)>"
      ]
     },
     "execution_count": 70,
     "metadata": {},
     "output_type": "execute_result"
    },
    {
     "data": {
      "image/png": "[encoded data removed]",
      "text/plain": [
       "<Figure size 400x300 with 1 Axes>"
      ]
     },
     "metadata": {},
     "output_type": "display_data"
    }
   ],
   "source": [
    "plt.figure(figsize=(4,3))\n",
    "sns.boxplot(x=\"car_prices_in_rupee\",data=dataset)\n",
    "plt.show"
   ]
  },
  {
   "cell_type": "code",
   "execution_count": 71,
   "id": "e59606fc",
   "metadata": {},
   "outputs": [
    {
     "data": {
      "text/plain": [
       "<function matplotlib.pyplot.show(close=None, block=None)>"
      ]
     },
     "execution_count": 71,
     "metadata": {},
     "output_type": "execute_result"
    },
    {
     "data": {
      "image/png": "[encoded data removed]",
      "text/plain": [
       "<Figure size 400x300 with 1 Axes>"
      ]
     },
     "metadata": {},
     "output_type": "display_data"
    }
   ],
   "source": [
    "plt.figure(figsize=(4,3))\n",
    "sns.boxplot(x=\"fuel_type\",data=dataset)\n",
    "plt.show"
   ]
  },
  {
   "cell_type": "code",
   "execution_count": 72,
   "id": "d7a658d3",
   "metadata": {},
   "outputs": [
    {
     "data": {
      "text/plain": [
       "<function matplotlib.pyplot.show(close=None, block=None)>"
      ]
     },
     "execution_count": 72,
     "metadata": {},
     "output_type": "execute_result"
    },
    {
     "data": {
      "image/png": "[encoded data removed]",
      "text/plain": [
       "<Figure size 400x300 with 1 Axes>"
      ]
     },
     "metadata": {},
     "output_type": "display_data"
    }
   ],
   "source": [
    "plt.figure(figsize=(4,3))\n",
    "sns.boxplot(x=\"engine\",data=dataset)\n",
    "plt.show"
   ]
  },
  {
   "cell_type": "code",
   "execution_count": 81,
   "id": "d86beff7",
   "metadata": {},
   "outputs": [
    {
     "data": {
      "text/plain": [
       "(5502, 10)"
      ]
     },
     "execution_count": 81,
     "metadata": {},
     "output_type": "execute_result"
    }
   ],
   "source": [
    "dataset.shape"
   ]
  },
  {
   "cell_type": "markdown",
   "id": "a4337ada",
   "metadata": {},
   "source": [
    "# Removing Outliers"
   ]
  },
  {
   "cell_type": "code",
   "execution_count": 76,
   "id": "7d26acaf",
   "metadata": {},
   "outputs": [],
   "source": [
    "#using IQR method to remove \n",
    "q1= np.quantile(dataset[\"engine\"],0.25)\n",
    "q3= np.quantile(dataset['engine'],0.75)"
   ]
  },
  {
   "cell_type": "code",
   "execution_count": 77,
   "id": "324def52",
   "metadata": {},
   "outputs": [
    {
     "data": {
      "text/plain": [
       "753.0"
      ]
     },
     "execution_count": 77,
     "metadata": {},
     "output_type": "execute_result"
    }
   ],
   "source": [
    "iqr = q3-q1\n",
    "iqr"
   ]
  },
  {
   "cell_type": "code",
   "execution_count": 78,
   "id": "1019db74",
   "metadata": {},
   "outputs": [],
   "source": [
    "min_range = q1 -(1.5*iqr)\n",
    "max_range = q3 -(1.5*iqr)"
   ]
  },
  {
   "cell_type": "code",
   "execution_count": 79,
   "id": "31fc1d11",
   "metadata": {},
   "outputs": [
    {
     "data": {
      "text/plain": [
       "(67.5, 820.5)"
      ]
     },
     "execution_count": 79,
     "metadata": {},
     "output_type": "execute_result"
    }
   ],
   "source": [
    "min_range,max_range"
   ]
  },
  {
   "cell_type": "code",
   "execution_count": 83,
   "id": "4f800ff0",
   "metadata": {},
   "outputs": [],
   "source": [
    "dataset = dataset[dataset['engine']<=max_range]"
   ]
  },
  {
   "cell_type": "code",
   "execution_count": 85,
   "id": "748a10bb",
   "metadata": {},
   "outputs": [],
   "source": [
    "from sklearn.preprocessing import StandardScaler\n",
    "import pandas as pd\n",
    "\n",
    "ss = StandardScaler()\n",
    "new_data = pd.DataFrame(ss.fit_transform(dataset), columns=dataset.columns)"
   ]
  },
  {
   "cell_type": "code",
   "execution_count": 86,
   "id": "55af0916",
   "metadata": {},
   "outputs": [
    {
     "data": {
      "text/html": [
       "<div>\n",
       "<style scoped>\n",
       "    .dataframe tbody tr th:only-of-type {\n",
       "        vertical-align: middle;\n",
       "    }\n",
       "\n",
       "    .dataframe tbody tr th {\n",
       "        vertical-align: top;\n",
       "    }\n",
       "\n",
       "    .dataframe thead th {\n",
       "        text-align: right;\n",
       "    }\n",
       "</style>\n",
       "<table border=\"1\" class=\"dataframe\">\n",
       "  <thead>\n",
       "    <tr style=\"text-align: right;\">\n",
       "      <th></th>\n",
       "      <th>Unnamed: 0</th>\n",
       "      <th>car_name</th>\n",
       "      <th>car_prices_in_rupee</th>\n",
       "      <th>kms_driven</th>\n",
       "      <th>fuel_type</th>\n",
       "      <th>transmission</th>\n",
       "      <th>ownership</th>\n",
       "      <th>engine</th>\n",
       "      <th>Seats</th>\n",
       "      <th>company_name</th>\n",
       "    </tr>\n",
       "  </thead>\n",
       "  <tbody>\n",
       "    <tr>\n",
       "      <th>0</th>\n",
       "      <td>-2.054003</td>\n",
       "      <td>-0.035688</td>\n",
       "      <td>-0.319188</td>\n",
       "      <td>-0.334980</td>\n",
       "      <td>0.844206</td>\n",
       "      <td>0.496625</td>\n",
       "      <td>-0.617391</td>\n",
       "      <td>0.253562</td>\n",
       "      <td>-0.277334</td>\n",
       "      <td>1.317423</td>\n",
       "    </tr>\n",
       "    <tr>\n",
       "      <th>1</th>\n",
       "      <td>-2.053308</td>\n",
       "      <td>-0.037417</td>\n",
       "      <td>-0.289820</td>\n",
       "      <td>-1.038738</td>\n",
       "      <td>0.844206</td>\n",
       "      <td>0.496625</td>\n",
       "      <td>-0.617391</td>\n",
       "      <td>0.253562</td>\n",
       "      <td>-0.277334</td>\n",
       "      <td>1.317423</td>\n",
       "    </tr>\n",
       "    <tr>\n",
       "      <th>2</th>\n",
       "      <td>-2.045666</td>\n",
       "      <td>-0.754731</td>\n",
       "      <td>-0.328147</td>\n",
       "      <td>-0.285579</td>\n",
       "      <td>0.844206</td>\n",
       "      <td>0.496625</td>\n",
       "      <td>-0.617391</td>\n",
       "      <td>0.344197</td>\n",
       "      <td>-0.277334</td>\n",
       "      <td>-0.862599</td>\n",
       "    </tr>\n",
       "    <tr>\n",
       "      <th>3</th>\n",
       "      <td>-2.044972</td>\n",
       "      <td>-1.525627</td>\n",
       "      <td>-0.325659</td>\n",
       "      <td>-0.734318</td>\n",
       "      <td>0.844206</td>\n",
       "      <td>0.496625</td>\n",
       "      <td>-0.617391</td>\n",
       "      <td>0.235435</td>\n",
       "      <td>-0.277334</td>\n",
       "      <td>0.291531</td>\n",
       "    </tr>\n",
       "    <tr>\n",
       "      <th>4</th>\n",
       "      <td>-2.044277</td>\n",
       "      <td>-0.039145</td>\n",
       "      <td>-0.344573</td>\n",
       "      <td>-0.696413</td>\n",
       "      <td>0.844206</td>\n",
       "      <td>0.496625</td>\n",
       "      <td>-0.617391</td>\n",
       "      <td>0.253562</td>\n",
       "      <td>-0.277334</td>\n",
       "      <td>1.317423</td>\n",
       "    </tr>\n",
       "    <tr>\n",
       "      <th>...</th>\n",
       "      <td>...</td>\n",
       "      <td>...</td>\n",
       "      <td>...</td>\n",
       "      <td>...</td>\n",
       "      <td>...</td>\n",
       "      <td>...</td>\n",
       "      <td>...</td>\n",
       "      <td>...</td>\n",
       "      <td>...</td>\n",
       "      <td>...</td>\n",
       "    </tr>\n",
       "    <tr>\n",
       "      <th>273</th>\n",
       "      <td>1.630852</td>\n",
       "      <td>0.579646</td>\n",
       "      <td>0.446855</td>\n",
       "      <td>-0.644646</td>\n",
       "      <td>-1.161686</td>\n",
       "      <td>0.496625</td>\n",
       "      <td>0.789451</td>\n",
       "      <td>0.235435</td>\n",
       "      <td>-0.277334</td>\n",
       "      <td>0.163294</td>\n",
       "    </tr>\n",
       "    <tr>\n",
       "      <th>274</th>\n",
       "      <td>1.635020</td>\n",
       "      <td>-0.763373</td>\n",
       "      <td>-0.361995</td>\n",
       "      <td>-0.086569</td>\n",
       "      <td>0.844206</td>\n",
       "      <td>0.496625</td>\n",
       "      <td>-0.617391</td>\n",
       "      <td>0.235435</td>\n",
       "      <td>-0.277334</td>\n",
       "      <td>-0.862599</td>\n",
       "    </tr>\n",
       "    <tr>\n",
       "      <th>275</th>\n",
       "      <td>1.650304</td>\n",
       "      <td>0.828545</td>\n",
       "      <td>-0.097190</td>\n",
       "      <td>0.136662</td>\n",
       "      <td>-1.161686</td>\n",
       "      <td>0.496625</td>\n",
       "      <td>-0.617391</td>\n",
       "      <td>0.235435</td>\n",
       "      <td>-0.277334</td>\n",
       "      <td>0.291531</td>\n",
       "    </tr>\n",
       "    <tr>\n",
       "      <th>276</th>\n",
       "      <td>1.701714</td>\n",
       "      <td>0.752493</td>\n",
       "      <td>-0.334618</td>\n",
       "      <td>0.359893</td>\n",
       "      <td>-1.161686</td>\n",
       "      <td>0.496625</td>\n",
       "      <td>-0.617391</td>\n",
       "      <td>0.253562</td>\n",
       "      <td>2.746147</td>\n",
       "      <td>0.291531</td>\n",
       "    </tr>\n",
       "    <tr>\n",
       "      <th>277</th>\n",
       "      <td>1.724641</td>\n",
       "      <td>0.814717</td>\n",
       "      <td>-0.180315</td>\n",
       "      <td>-0.533031</td>\n",
       "      <td>0.844206</td>\n",
       "      <td>0.496625</td>\n",
       "      <td>0.789451</td>\n",
       "      <td>0.235435</td>\n",
       "      <td>1.234407</td>\n",
       "      <td>0.291531</td>\n",
       "    </tr>\n",
       "  </tbody>\n",
       "</table>\n",
       "<p>278 rows × 10 columns</p>\n",
       "</div>"
      ],
      "text/plain": [
       "     Unnamed: 0  car_name  car_prices_in_rupee  kms_driven  fuel_type   \n",
       "0     -2.054003 -0.035688            -0.319188   -0.334980   0.844206  \\\n",
       "1     -2.053308 -0.037417            -0.289820   -1.038738   0.844206   \n",
       "2     -2.045666 -0.754731            -0.328147   -0.285579   0.844206   \n",
       "3     -2.044972 -1.525627            -0.325659   -0.734318   0.844206   \n",
       "4     -2.044277 -0.039145            -0.344573   -0.696413   0.844206   \n",
       "..          ...       ...                  ...         ...        ...   \n",
       "273    1.630852  0.579646             0.446855   -0.644646  -1.161686   \n",
       "274    1.635020 -0.763373            -0.361995   -0.086569   0.844206   \n",
       "275    1.650304  0.828545            -0.097190    0.136662  -1.161686   \n",
       "276    1.701714  0.752493            -0.334618    0.359893  -1.161686   \n",
       "277    1.724641  0.814717            -0.180315   -0.533031   0.844206   \n",
       "\n",
       "     transmission  ownership    engine     Seats  company_name  \n",
       "0        0.496625  -0.617391  0.253562 -0.277334      1.317423  \n",
       "1        0.496625  -0.617391  0.253562 -0.277334      1.317423  \n",
       "2        0.496625  -0.617391  0.344197 -0.277334     -0.862599  \n",
       "3        0.496625  -0.617391  0.235435 -0.277334      0.291531  \n",
       "4        0.496625  -0.617391  0.253562 -0.277334      1.317423  \n",
       "..            ...        ...       ...       ...           ...  \n",
       "273      0.496625   0.789451  0.235435 -0.277334      0.163294  \n",
       "274      0.496625  -0.617391  0.235435 -0.277334     -0.862599  \n",
       "275      0.496625  -0.617391  0.235435 -0.277334      0.291531  \n",
       "276      0.496625  -0.617391  0.253562  2.746147      0.291531  \n",
       "277      0.496625   0.789451  0.235435  1.234407      0.291531  \n",
       "\n",
       "[278 rows x 10 columns]"
      ]
     },
     "execution_count": 86,
     "metadata": {},
     "output_type": "execute_result"
    }
   ],
   "source": [
    "new_data"
   ]
  },
  {
   "cell_type": "code",
   "execution_count": null,
   "id": "0136ef91",
   "metadata": {},
   "outputs": [],
   "source": []
  }
 ],
 "metadata": {
  "kernelspec": {
   "display_name": "Python 3 (ipykernel)",
   "language": "python",
   "name": "python3"
  },
  "language_info": {
   "codemirror_mode": {
    "name": "ipython",
    "version": 3
   },
   "file_extension": ".py",
   "mimetype": "text/x-python",
   "name": "python",
   "nbconvert_exporter": "python",
   "pygments_lexer": "ipython3",
   "version": "3.11.4"
  }
 },
 "nbformat": 4,
 "nbformat_minor": 5
}
